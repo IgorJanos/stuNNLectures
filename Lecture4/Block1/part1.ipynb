{
 "cells": [
  {
   "cell_type": "markdown",
   "metadata": {},
   "source": [
    "# Hello Numpy\n",
    "\n",
    "Introduction to NUMPY\n"
   ]
  },
  {
   "cell_type": "code",
   "execution_count": null,
   "metadata": {},
   "outputs": [],
   "source": [
    "import numpy as np\n"
   ]
  },
  {
   "cell_type": "markdown",
   "metadata": {},
   "source": [
    "## List vs. Numpy Array\n",
    "\n",
    "List (zoznam) je datova struktura jazyka Python.\n",
    "\n",
    "Numpy array je N-rozmerny tenzor. Moze to byt vektor, matica, alebo tenzor vyssieho stupna. Prvky tenzora maju rovnaky typ.\n",
    "\n",
    "List je mozne skonvertovat na Numpy array."
   ]
  },
  {
   "cell_type": "code",
   "execution_count": null,
   "metadata": {},
   "outputs": [],
   "source": [
    "# This is a simple list\n",
    "listItems = [1, 2, 3, 4, 5]\n",
    "print('List contains {} items: {}'.format(len(listItems), listItems))\n"
   ]
  },
  {
   "cell_type": "code",
   "execution_count": null,
   "metadata": {},
   "outputs": [],
   "source": [
    "# List can also contain elements of different types\n",
    "listItems2 = [0, 1.0, True, 'StringItem', {\"x\": \"1.0\"} ]\n",
    "print(listItems2)\n"
   ]
  },
  {
   "cell_type": "markdown",
   "metadata": {},
   "source": [
    "Skusime spravit maticu M pomocou zoznamu - su to vlastne dva vnorene zoznamy."
   ]
  },
  {
   "cell_type": "code",
   "execution_count": null,
   "metadata": {},
   "outputs": [],
   "source": [
    "M = [[1,2,3], [4,5,6], [7,8,9]]\n",
    "print(M)\n"
   ]
  },
  {
   "cell_type": "markdown",
   "metadata": {},
   "source": [
    "Tazko je nejak presne vyjadrit rozmery takejto matice. Kazdy vnoreny zoznam moze mat roznu velkost....\n",
    "\n",
    "### <b>Zoznam nie je vhodna datova struktura na pracu s maticami !</b>"
   ]
  },
  {
   "cell_type": "markdown",
   "metadata": {},
   "source": [
    "## Numpy Arrays\n"
   ]
  },
  {
   "cell_type": "code",
   "execution_count": null,
   "metadata": {},
   "outputs": [],
   "source": [
    "# Spravime numpy array - vyzera ako zoznam\n",
    "a = np.array([1, 2, 3, 4])\n",
    "print('Numpy array: ', a)\n",
    "print('Element type: ', a.dtype)\n",
    "print('Shape: ', a.shape)\n"
   ]
  },
  {
   "cell_type": "markdown",
   "metadata": {},
   "source": [
    "Shape: (4,) = RANK 1 \n"
   ]
  },
  {
   "cell_type": "code",
   "execution_count": null,
   "metadata": {},
   "outputs": [],
   "source": [
    "# Skusime spravit maticu\n",
    "m = np.array([[1,2,3], [4,5,6], [7,8,9]], dtype=float)\n",
    "print('Numpy array: \\n', m)\n",
    "print('Element type: ', m.dtype)\n",
    "print('Shape: ', m.shape)\n"
   ]
  },
  {
   "cell_type": "markdown",
   "metadata": {},
   "source": [
    "Shape: (3, 3) = RANK 2       Dvojrozmerna matica.\n",
    "\n",
    "Vsetky vypocty, ktore budeme robit v tychto ukazkach, sa budu tykat RANK 2 arrayov.\n",
    "RANK 1 je nieco, comu sa budeme chciet vyhnut.\n",
    "\n",
    "Aj vektory - stlpcove alebo riadkove - budeme pouzivat ako RANK 2 arraye.\n"
   ]
  },
  {
   "cell_type": "code",
   "execution_count": null,
   "metadata": {},
   "outputs": [],
   "source": [
    "# Skusime spravit riadkovy vektor\n",
    "v = np.array([[1, 2, 3, 4]], dtype=float)\n",
    "print('Shape: ', v.shape)\n",
    "print(v)\n",
    "print('')\n",
    "\n",
    "# Spravime z neho Transponovany - stlpcovy vektor\n",
    "v = v.T\n",
    "print('Transposed shape: ', v.shape)\n",
    "print(v)\n"
   ]
  },
  {
   "cell_type": "markdown",
   "metadata": {},
   "source": [
    "## Rez maticou\n",
    "\n",
    "Rez znizuje Rank !"
   ]
  },
  {
   "cell_type": "code",
   "execution_count": null,
   "metadata": {},
   "outputs": [],
   "source": [
    "# Spravime 3x3 maticu\n",
    "m = np.array([[1, 2, 3], [4, 5, 6], [7, 8, 9]])\n",
    "print(m)\n",
    "print('Shape: ',m.shape)   # >> (3, 3)\n",
    "print('')\n"
   ]
  },
  {
   "cell_type": "code",
   "execution_count": null,
   "metadata": {},
   "outputs": [],
   "source": [
    "# Druhy riadok\n",
    "\n",
    "r = m[1,:]    # >> (3, ) Rank 1\n",
    "print('Druhy riadok - Rank 1:')\n",
    "print(r)\n",
    "print(r.shape)\n",
    "print('')\n",
    "\n",
    "r = m[1,None]   # >> (1, 3) Rank 2\n",
    "print('Druhy riadok - Rank 2:')\n",
    "print(r)\n",
    "print(r.shape)\n",
    "print('')\n"
   ]
  },
  {
   "cell_type": "code",
   "execution_count": null,
   "metadata": {},
   "outputs": [],
   "source": [
    "# Druhy stlpec\n",
    "\n",
    "c = m[:,1]    # >> (3, ) Rank 1\n",
    "print('Druhy stlpec - Rank 1:')\n",
    "print(c)\n",
    "print(c.shape)\n",
    "print('')\n",
    "\n",
    "c = m[:,1,None]   # >> (3, 1) Rank 2\n",
    "print('Druhy stlpec - Rank 2:')\n",
    "print(c)\n",
    "print(c.shape)\n"
   ]
  },
  {
   "cell_type": "markdown",
   "metadata": {},
   "source": [
    "## Broadcasting\n",
    "\n",
    "Ak sa snazime vykonavat maticovu operaciu nad operandami s nevyhovujucim tvarom, vie si Numpy pomoct zmysluplnym duplikovanim hodnot."
   ]
  },
  {
   "cell_type": "code",
   "execution_count": null,
   "metadata": {},
   "outputs": [],
   "source": [
    "# Spravime maticu M - 2x2, a skalar b\n",
    "M = np.array([[1,2], [3,4]])     # >> (2, 2)\n",
    "b = 1\n",
    "\n",
    "print('Matrix M: \\n', M, '\\n')\n",
    "print('b: \\n', b, '\\n')\n",
    "print('Matrix M+b: \\n', M+b, '\\n')\n"
   ]
  },
  {
   "cell_type": "code",
   "execution_count": null,
   "metadata": {},
   "outputs": [],
   "source": [
    "# Spravime riadkovy vektor c - 1x2\n",
    "c = np.array([[5, 5]])           # >> (1, 2)\n",
    "\n",
    "print('Matrix M: \\n', M, '\\n')\n",
    "print('c: \\n', c, '\\n')\n",
    "print('Matrix M+c: \\n', M+c, '\\n')"
   ]
  },
  {
   "cell_type": "code",
   "execution_count": null,
   "metadata": {},
   "outputs": [],
   "source": [
    "# Spravime stlpcovy vektor d - 2x1\n",
    "d = np.array([[10], [10]])  # >> (2, 1)\n",
    "\n",
    "print('Matrix M: \\n', M, '\\n')\n",
    "print('d: \\n', d, '\\n')\n",
    "print('Matrix M+d: \\n', M+d, '\\n')\n"
   ]
  },
  {
   "cell_type": "markdown",
   "metadata": {},
   "source": [
    "## Funkcie nad Numpy arrayom\n",
    "\n",
    "Kniznica Numpy vie vykonavat matematicke funkcie nad elementami matic. Napriklad exp."
   ]
  },
  {
   "cell_type": "code",
   "execution_count": null,
   "metadata": {},
   "outputs": [],
   "source": [
    "import math\n"
   ]
  },
  {
   "cell_type": "code",
   "execution_count": null,
   "metadata": {},
   "outputs": [],
   "source": [
    "# Volame tradicnu math.exp funkciu\n",
    "a = -1.0\n",
    "print(math.exp(a))\n"
   ]
  },
  {
   "cell_type": "code",
   "execution_count": null,
   "metadata": {},
   "outputs": [],
   "source": [
    "# Volame numpy.exp funkciu\n",
    "a = np.array([[-1.0, 0, 1.0]], dtype=float)\n",
    "r = np.exp(a)\n",
    "\n",
    "print('a: \\n', a, '\\n')\n",
    "print('r: \\n', r, '\\n')\n"
   ]
  },
  {
   "cell_type": "code",
   "execution_count": null,
   "metadata": {},
   "outputs": [],
   "source": [
    "# Boolean arraye\n",
    "a = np.arange(start=0, stop=10, step=1, dtype=int)\n",
    "print('a: \\n', a, '\\n')\n",
    "\n",
    "# Element-wise porovnanie\n",
    "b = (a > 5)\n",
    "print('b: \\n', b, '\\n')\n"
   ]
  },
  {
   "cell_type": "markdown",
   "metadata": {},
   "source": [
    "## Inicializacie\n",
    "\n",
    "Matice mozeme inicializovat bud na konkretnu hodnotu - 0, 1.\n",
    "Alebo nahodne z rozdelenia (uniform, normal, ... )"
   ]
  },
  {
   "cell_type": "code",
   "execution_count": null,
   "metadata": {},
   "outputs": [],
   "source": [
    "# Inicializujeme vsetky elementy na hodnotu 1\n",
    "v = np.ones(shape=(5, 10), dtype=float)\n",
    "print(v)"
   ]
  },
  {
   "cell_type": "code",
   "execution_count": null,
   "metadata": {},
   "outputs": [],
   "source": [
    "# Inicializujeme vsetky elementy na hodnotu 0\n",
    "v = np.zeros(shape=(5, 10), dtype=float)\n",
    "print(v)"
   ]
  },
  {
   "cell_type": "code",
   "execution_count": null,
   "metadata": {},
   "outputs": [],
   "source": [
    "# Inicializovat s rovnakym tvarom\n",
    "v2 = np.ones_like(v)\n",
    "print(v2)"
   ]
  },
  {
   "cell_type": "code",
   "execution_count": null,
   "metadata": {},
   "outputs": [],
   "source": [
    "# Inicializacia nahodnymi hodnotami - Uniform Distribution\n",
    "v = np.random.rand(2, 3)    # <0; 1>\n",
    "print(v)\n",
    "print(v.shape)"
   ]
  },
  {
   "cell_type": "code",
   "execution_count": null,
   "metadata": {},
   "outputs": [],
   "source": [
    "# Inicializacia nahodnymi hodnotami - Normal Distribution\n",
    "v = np.random.randn(2, 3)   # Normal(mean=0, stddev=1)\n",
    "print(v)\n",
    "print(v.shape)"
   ]
  },
  {
   "cell_type": "code",
   "execution_count": null,
   "metadata": {},
   "outputs": [],
   "source": []
  }
 ],
 "metadata": {
  "kernelspec": {
   "display_name": "Python 3",
   "language": "python",
   "name": "python3"
  },
  "language_info": {
   "codemirror_mode": {
    "name": "ipython",
    "version": 3
   },
   "file_extension": ".py",
   "mimetype": "text/x-python",
   "name": "python",
   "nbconvert_exporter": "python",
   "pygments_lexer": "ipython3",
   "version": "3.8.5"
  }
 },
 "nbformat": 4,
 "nbformat_minor": 2
}
