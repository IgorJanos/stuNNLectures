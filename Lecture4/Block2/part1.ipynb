{
 "metadata": {
  "language_info": {
   "codemirror_mode": {
    "name": "ipython",
    "version": 3
   },
   "file_extension": ".py",
   "mimetype": "text/x-python",
   "name": "python",
   "nbconvert_exporter": "python",
   "pygments_lexer": "ipython3",
   "version": "3.8.5-final"
  },
  "orig_nbformat": 2,
  "kernelspec": {
   "name": "python3",
   "display_name": "Python 3.8.5 64-bit ('tf': conda)",
   "metadata": {
    "interpreter": {
     "hash": "31d56fa8489417c6958bc95e73b8d3766816132fea40e62e4bcabc0084854ff7"
    }
   }
  }
 },
 "nbformat": 4,
 "nbformat_minor": 2,
 "cells": [
  {
   "source": [
    "# Neural Networks - MiniFramework\n",
    "\n",
    "Tak podme spravit nieco zabavne, s cim sa bude dat dobre experimentovat.\n",
    "Spravime miniaturny framework na ucenie neuronovych sieti.\n"
   ],
   "cell_type": "markdown",
   "metadata": {}
  },
  {
   "cell_type": "code",
   "execution_count": 1,
   "metadata": {},
   "outputs": [],
   "source": [
    "import numpy as np\n"
   ]
  },
  {
   "source": [
    "## 1. Aktivacne funkcie\n",
    "\n",
    "Zacnime zakladnymi suciastkami, z ktorych neskor framework zlozime.\n"
   ],
   "cell_type": "markdown",
   "metadata": {}
  },
  {
   "source": [
    "Kedze budeme chciet implementovat priamy aj spatny prechod neuronovou sietou, budeme potrebovat, aby vsetky funkcie zucastnujuce sa vypoctoveho grafu podporovali priame aj spatne vykonavanie.\n"
   ],
   "cell_type": "markdown",
   "metadata": {}
  },
  {
   "cell_type": "code",
   "execution_count": 2,
   "metadata": {},
   "outputs": [],
   "source": [
    "class ActivationFunction:\n",
    "    def __init__(self):\n",
    "        pass\n",
    "\n",
    "    def __call__(self, z):\n",
    "        pass\n",
    "\n",
    "    def derivative(self, z):\n",
    "        pass"
   ]
  },
  {
   "source": [
    "Dalej implementujme niekolko oblubenych aktivacnych funkcii:\n",
    "- Linear\n",
    "- ReLU\n",
    "- Sigmoid"
   ],
   "cell_type": "markdown",
   "metadata": {}
  },
  {
   "cell_type": "code",
   "execution_count": 3,
   "metadata": {},
   "outputs": [],
   "source": [
    "class LinearActivationFunction(ActivationFunction):\n",
    "    def __call__(self, z):\n",
    "        return z\n",
    "\n",
    "    def derivative(self, z):\n",
    "        return np.ones_like(z)"
   ]
  },
  {
   "cell_type": "code",
   "execution_count": 4,
   "metadata": {},
   "outputs": [],
   "source": [
    "class ReLUActivationFunction(ActivationFunction):\n",
    "    def __call__(self, z):\n",
    "        return np.maximum(z, 0)\n",
    "\n",
    "    def derivative(self, z):\n",
    "        return (z > 0).astype(float)"
   ]
  },
  {
   "cell_type": "code",
   "execution_count": 5,
   "metadata": {},
   "outputs": [],
   "source": [
    "class SigmoidActivationFunction(ActivationFunction):\n",
    "    def __call__(self, z):\n",
    "        return 1.0 / (1.0 + np.exp(-z))\n",
    "\n",
    "    def derivative(self, z):\n",
    "        a = self(z)\n",
    "        return np.multiply(a, 1-a)"
   ]
  },
  {
   "source": [
    "Dalsie aktivacne funkcie mozeme pridavat neskor. Chceme, aby nas framework bol rozsirovatelny.\n",
    "Preto spravime Factory funkciu schopnu vytvarat aktivacne funkcie podla mena.\n"
   ],
   "cell_type": "markdown",
   "metadata": {}
  },
  {
   "cell_type": "code",
   "execution_count": 6,
   "metadata": {},
   "outputs": [],
   "source": [
    "MAP_ACTIVATION_FUNCTIONS = {\n",
    "    \"linear\": LinearActivationFunction,\n",
    "    \"relu\": ReLUActivationFunction,\n",
    "    \"sigmoid\": SigmoidActivationFunction\n",
    "}\n",
    "\n",
    "# Vytvarame funkcie podla mena. Stazujeme sa, ak narazime na neznamy typ funkcie.\n",
    "def CreateActivationFunction(kind):\n",
    "    if (kind in MAP_ACTIVATION_FUNCTIONS):\n",
    "        return MAP_ACTIVATION_FUNCTIONS[kind]()\n",
    "    raise ValueError(kind, \"Unknown activation function {}\".format(kind))"
   ]
  },
  {
   "source": [
    "Podme otestovat, ako sa spravaju nase aktivacne funkcie"
   ],
   "cell_type": "markdown",
   "metadata": {}
  },
  {
   "cell_type": "code",
   "execution_count": 7,
   "metadata": {},
   "outputs": [
    {
     "output_type": "stream",
     "name": "stdout",
     "text": [
      "z:  [-2.  -1.5 -1.  -0.5  0.   0.5  1.   1.5]\nFunction:  linear\n   a  =  [-2.  -1.5 -1.  -0.5  0.   0.5  1.   1.5]\n   dz =  [1. 1. 1. 1. 1. 1. 1. 1.]\nFunction:  relu\n   a  =  [0.  0.  0.  0.  0.  0.5 1.  1.5]\n   dz =  [0. 0. 0. 0. 0. 1. 1. 1.]\nFunction:  sigmoid\n   a  =  [0.11920292 0.18242552 0.26894142 0.37754067 0.5        0.62245933\n 0.73105858 0.81757448]\n   dz =  [0.10499359 0.14914645 0.19661193 0.23500371 0.25       0.23500371\n 0.19661193 0.14914645]\n"
     ]
    }
   ],
   "source": [
    "def test_ActivationFunctions():\n",
    "    # Spravime si vektor hodnot\n",
    "    z = np.arange(-2.0, 2.0, 0.5)\n",
    "    print('z: ', z)\n",
    "\n",
    "    for kind in ['linear', 'relu', 'sigmoid']:\n",
    "        # spravime danu aktivacnu gunkciu\n",
    "        g = CreateActivationFunction(kind)\n",
    "        a = g(z)\n",
    "        dz = g.derivative(z)\n",
    "\n",
    "        print('Function: ', kind)\n",
    "        print('   a  = ', a)\n",
    "        print('   dz = ', dz)\n",
    "\n",
    "test_ActivationFunctions()\n"
   ]
  },
  {
   "source": [
    "## 2. Stratove funkcie\n",
    "\n",
    "Obdobne ako aktivacne funkcie, aj stratove musia podporovat priamy a spatny prechod."
   ],
   "cell_type": "markdown",
   "metadata": {}
  },
  {
   "cell_type": "code",
   "execution_count": 8,
   "metadata": {},
   "outputs": [],
   "source": [
    "class LossFunction:\n",
    "    def __init__(self):\n",
    "        pass\n",
    "\n",
    "    def __call__(self, a, y):\n",
    "        pass\n",
    "\n",
    "    def derivative(self, a, y):\n",
    "        pass"
   ]
  },
  {
   "source": [
    "Teraz si mozeme implementovat Logistic Loss funkciu. Je to vlastne specialny pripad cross-entropy funkcie pre pripad klasifikacie pre viacero tried. V machine learning frameworkoch sa zvykne oznacovat aj ako BinaryCrossEntropy. Pouzijeme rovnake meno aj tu."
   ],
   "cell_type": "markdown",
   "metadata": {}
  },
  {
   "cell_type": "code",
   "execution_count": 9,
   "metadata": {},
   "outputs": [],
   "source": [
    "class BinaryCrossEntropyLossFunction(LossFunction):\n",
    "    def __call__(self, a, y):\n",
    "        return -( np.multiply(y, np.log(a)) + np.multiply((1-y), np.log(1-a)) )\n",
    "\n",
    "    def derivative(self, a, y):\n",
    "        return -np.divide(y, a) + np.divide((1-y), (1-a))\n"
   ]
  },
  {
   "source": [
    "Dalsie oblubene stratove funkcie, si mozete naimplementovat ako cvicenie:\n",
    "- absolute error\n",
    "- square error\n",
    "- huber loss\n",
    "- ..."
   ],
   "cell_type": "markdown",
   "metadata": {}
  },
  {
   "source": [
    "Poskytneme miesto vo frameworku, kde bude mozne lahko rozsirovat podporovane loss funkcie.\n"
   ],
   "cell_type": "markdown",
   "metadata": {}
  },
  {
   "cell_type": "code",
   "execution_count": 10,
   "metadata": {},
   "outputs": [],
   "source": [
    "MAP_LOSS_FUNCTIONS = {\n",
    "    \"bce\": BinaryCrossEntropyLossFunction\n",
    "}\n",
    "\n",
    "def CreateLossFunction(kind):\n",
    "    if (kind in MAP_LOSS_FUNCTIONS):\n",
    "        return MAP_LOSS_FUNCTIONS[kind]()\n",
    "    raise ValueError(kind, \"Unknown loss function {}\".format(kind))"
   ]
  },
  {
   "source": [
    "Podme vyskusat, ci nasa stratova funkcia funguje podla ocakavania\n"
   ],
   "cell_type": "markdown",
   "metadata": {}
  },
  {
   "cell_type": "code",
   "execution_count": 11,
   "metadata": {},
   "outputs": [
    {
     "output_type": "stream",
     "name": "stdout",
     "text": [
      "Y: \n [0. 0. 0. 0. 1. 1. 1. 1.] \n\nYHat: \n [0.01 0.1  0.2  0.4  0.6  0.8  0.9  0.99] \n\nloss: \n [0.01005034 0.10536052 0.22314355 0.51082562 0.51082562 0.22314355\n 0.10536052 0.01005034] \n\nda:   \n [ 1.01010101  1.11111111  1.25        1.66666667 -1.66666667 -1.25\n -1.11111111 -1.01010101] \n\n"
     ]
    }
   ],
   "source": [
    "def test_LossFunction():\n",
    "    # Vytvorime binary crossentropy\n",
    "    L = CreateLossFunction(\"bce\")\n",
    "\n",
    "    # Nainicializujeme Y, YHat\n",
    "    Y    = np.array([0,    0,   0,   0,   1,   1,   1,   1], dtype=float)\n",
    "    YHat = np.array([0.01, 0.1, 0.2, 0.4, 0.6, 0.8, 0.9, 0.99], dtype=float)\n",
    "\n",
    "    # Spocitame hodnotu loss funkcie\n",
    "    loss = L(YHat, Y)\n",
    "    da = L.derivative(YHat, Y)\n",
    "\n",
    "    print('Y: \\n', Y, '\\n')\n",
    "    print('YHat: \\n', YHat, '\\n')\n",
    "    print('loss: \\n', loss, '\\n')\n",
    "    print('da:   \\n', da, '\\n')\n",
    "\n",
    "test_LossFunction()\n"
   ]
  },
  {
   "source": [
    "## 3. Optimizer\n",
    "\n",
    "Optimizer predstavuje algoritmus upravy parametrov siete podla gradientu. Zaciname jednoducho a naimplementujeme Gradient Descent optimizer. Neskor budeme rozsirovat a pridavat ucinnejsie optimizery."
   ],
   "cell_type": "markdown",
   "metadata": {}
  },
  {
   "cell_type": "code",
   "execution_count": 12,
   "metadata": {},
   "outputs": [],
   "source": [
    "class Optimizer:\n",
    "    def __init__(self):\n",
    "        pass\n",
    "\n",
    "    def backward(self, optimizerContext, dW, db):\n",
    "        # Pri spatnom prechode moze optimizer vykonat svoju pracu nad gradientami dW, db\n",
    "        pass\n",
    "\n",
    "    def update(self, optimizerContext, W, b):\n",
    "        # Uprava vah - jeden krok zostupu\n",
    "        pass\n"
   ]
  },
  {
   "cell_type": "code",
   "execution_count": 13,
   "metadata": {},
   "outputs": [],
   "source": [
    "class GradientDescent(Optimizer):\n",
    "    def __init__(self, learningRate):\n",
    "        self.learningRate = learningRate\n",
    "\n",
    "    def backward(self, optimizerContext, dW, db):\n",
    "        # Odkladame aktualne hodnoty dW a db do noveho kontextu\n",
    "        return (dW, db)\n",
    "\n",
    "    def update(self, optimizerContext, W, b):\n",
    "        # Pouzijeme gradienty z kontextu\n",
    "        dW, db = optimizerContext\n",
    "\n",
    "        # Jeden krok zostupu\n",
    "        W = W - self.learningRate*dW\n",
    "        b = b - self.learningRate*db\n",
    "        return W, b"
   ]
  },
  {
   "cell_type": "code",
   "execution_count": null,
   "metadata": {},
   "outputs": [],
   "source": []
  }
 ]
}