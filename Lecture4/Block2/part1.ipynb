{
 "metadata": {
  "language_info": {
   "codemirror_mode": {
    "name": "ipython",
    "version": 3
   },
   "file_extension": ".py",
   "mimetype": "text/x-python",
   "name": "python",
   "nbconvert_exporter": "python",
   "pygments_lexer": "ipython3",
   "version": "3.8.5-final"
  },
  "orig_nbformat": 2,
  "kernelspec": {
   "name": "python3",
   "display_name": "Python 3",
   "language": "python"
  }
 },
 "nbformat": 4,
 "nbformat_minor": 2,
 "cells": [
  {
   "source": [
    "# Neural Networks - MiniFramework\n",
    "\n",
    "Tak podme spravit nieco zabavne, s cim sa bude dat dobre experimentovat.\n",
    "Spravime miniaturny framework na ucenie neuronovych sieti.\n"
   ],
   "cell_type": "markdown",
   "metadata": {}
  },
  {
   "cell_type": "code",
   "execution_count": 3,
   "metadata": {},
   "outputs": [],
   "source": [
    "import numpy as np\n"
   ]
  },
  {
   "source": [
    "## 1. Aktivacne funkcie\n",
    "\n",
    "Zacnime zakladnymi suciastkami, z ktorych neskor framework zlozime.\n"
   ],
   "cell_type": "markdown",
   "metadata": {}
  },
  {
   "source": [
    "Kedze budeme chciet implementovat priamy aj spatny prechod neuronovou sietou, budeme potrebovat, aby vsetky funkcie zucastnujuce sa vypoctoveho grafu podporovali priame aj spatne vykonavanie.\n"
   ],
   "cell_type": "markdown",
   "metadata": {}
  },
  {
   "cell_type": "code",
   "execution_count": 4,
   "metadata": {},
   "outputs": [],
   "source": [
    "class ActivationFunction:\n",
    "    def __init__(self):\n",
    "        pass\n",
    "\n",
    "    def __call__(self, z):\n",
    "        pass\n",
    "\n",
    "    def derivative(self, z):\n",
    "        pass"
   ]
  },
  {
   "source": [
    "Dalej implementujme niekolko oblubenych aktivacnych funkcii:\n",
    "- Linear\n",
    "- ReLU\n",
    "- Sigmoid"
   ],
   "cell_type": "markdown",
   "metadata": {}
  },
  {
   "cell_type": "code",
   "execution_count": 5,
   "metadata": {},
   "outputs": [],
   "source": [
    "class LinearActivationFunction(ActivationFunction):\n",
    "    def __call__(self, z):\n",
    "        return z\n",
    "\n",
    "    def derivative(self, z):\n",
    "        return np.ones_like(z)"
   ]
  },
  {
   "cell_type": "code",
   "execution_count": 6,
   "metadata": {},
   "outputs": [],
   "source": [
    "class ReLUActivationFunction(ActivationFunction):\n",
    "    def __call__(self, z):\n",
    "        return np.maximum(z, 0)\n",
    "\n",
    "    def derivative(self, z):\n",
    "        return (z > 0).astype(float)"
   ]
  },
  {
   "cell_type": "code",
   "execution_count": 7,
   "metadata": {},
   "outputs": [],
   "source": [
    "class SigmoidActivationFunction(ActivationFunction):\n",
    "    def __call__(self, z):\n",
    "        return 1.0 / (1.0 + np.exp(-z))\n",
    "\n",
    "    def derivative(self, z):\n",
    "        a = self(z)\n",
    "        return np.multiply(a, 1-a)"
   ]
  },
  {
   "source": [
    "Dalsie aktivacne funkcie mozeme pridavat neskor. Chceme, aby nas framework bol rozsirovatelny.\n",
    "Preto spravime Factory funkciu schopnu vytvarat aktivacne funkcie podla mena.\n"
   ],
   "cell_type": "markdown",
   "metadata": {}
  },
  {
   "cell_type": "code",
   "execution_count": 8,
   "metadata": {},
   "outputs": [],
   "source": [
    "MAP_ACTIVATION_FUNCTIONS = {\n",
    "    \"linear\": LinearActivationFunction,\n",
    "    \"relu\": ReLUActivationFunction,\n",
    "    \"sigmoid\": SigmoidActivationFunction\n",
    "}\n",
    "\n",
    "# Vytvarame funkcie podla mena. Stazujeme sa, ak narazime na neznamy typ funkcie.\n",
    "def CreateActivationFunction(kind):\n",
    "    if (kind in MAP_ACTIVATION_FUNCTIONS):\n",
    "        return MAP_ACTIVATION_FUNCTIONS[kind]()\n",
    "    raise ValueError(kind, \"Unknown activation function {}\".format(kind))"
   ]
  },
  {
   "source": [
    "Podme otestovat, ako sa spravaju nase aktivacne funkcie"
   ],
   "cell_type": "markdown",
   "metadata": {}
  },
  {
   "cell_type": "code",
   "execution_count": 12,
   "metadata": {},
   "outputs": [
    {
     "output_type": "stream",
     "name": "stdout",
     "text": [
      "z:  [-2.  -1.5 -1.  -0.5  0.   0.5  1.   1.5]\nFunction:  linear\n   a  =  [-2.  -1.5 -1.  -0.5  0.   0.5  1.   1.5]\n   dz =  [1. 1. 1. 1. 1. 1. 1. 1.]\nFunction:  relu\n   a  =  [0.  0.  0.  0.  0.  0.5 1.  1.5]\n   dz =  [0. 0. 0. 0. 0. 1. 1. 1.]\nFunction:  sigmoid\n   a  =  [0.11920292 0.18242552 0.26894142 0.37754067 0.5        0.62245933\n 0.73105858 0.81757448]\n   dz =  [0.10499359 0.14914645 0.19661193 0.23500371 0.25       0.23500371\n 0.19661193 0.14914645]\n"
     ]
    }
   ],
   "source": [
    "def test_ActivationFunctions():\n",
    "    # Spravime si vektor hodnot\n",
    "    z = np.arange(-2.0, 2.0, 0.5)\n",
    "    print('z: ', z)\n",
    "\n",
    "    for kind in ['linear', 'relu', 'sigmoid']:\n",
    "        # spravime danu aktivacnu gunkciu\n",
    "        g = CreateActivationFunction(kind)\n",
    "        a = g(z)\n",
    "        dz = g.derivative(z)\n",
    "\n",
    "        print('Function: ', kind)\n",
    "        print('   a  = ', a)\n",
    "        print('   dz = ', dz)\n",
    "\n",
    "test_ActivationFunctions()\n"
   ]
  },
  {
   "cell_type": "code",
   "execution_count": null,
   "metadata": {},
   "outputs": [],
   "source": []
  }
 ]
}